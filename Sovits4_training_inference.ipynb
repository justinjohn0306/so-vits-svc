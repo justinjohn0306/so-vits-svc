{
  "nbformat": 4,
  "nbformat_minor": 0,
  "metadata": {
    "colab": {
      "provenance": []
    },
    "kernelspec": {
      "name": "python3",
      "display_name": "Python 3"
    },
    "language_info": {
      "name": "python"
    },
    "accelerator": "GPU",
    "gpuClass": "standard"
  },
  "cells": [
    {
      "cell_type": "markdown",
      "source": [
        "**Slighty modded by [justinjohn-03](https://github.com/justinjohn0306)**"
      ],
      "metadata": {
        "id": "6tiM0d1niBqZ"
      }
    },
    {
      "cell_type": "markdown",
      "source": [
        "# Terms of Use\n",
        "\n",
        "1. This project is established for academic exchange purposes only and is intended for communication and learning purposes. It is not intended for production environments. Please solve the authorization problem of the dataset on your own. You shall be solely responsible for any problems caused by the use of non-authorized datasets for training and all consequences thereof.\n",
        "2. Any videos based on sovits that are published on video platforms must clearly indicate in the description that they are used for voice changing and specify the input source of the voice or audio, for example, using videos or audios published by others and separating the vocals as input source for conversion, which must provide clear original video or music links. If your own voice or other synthesized voices from other commercial vocal synthesis software are used as the input source for conversion, you must also explain it in the description.\n",
        "3. You shall be solely responsible for any infringement problems caused by the input source. When using other commercial vocal synthesis software as input source, please ensure that you comply with the terms of use of the software. Note that many vocal synthesis engines clearly state in their terms of use that they cannot be used for input source conversion.\n",
        "4. Continuing to use this project is deemed as agreeing to the relevant provisions stated in this repository README. This repository README has the obligation to persuade, and is not responsible for any subsequent problems that may arise.\n",
        "5. If you distribute this repository's code or publish any results produced by this project publicly (including but not limited to video sharing platforms), please indicate the original author and code source (this repository).\n",
        "6. If you use this project for any other plan, please contact and inform the author of this repository in advance. Thank you very much.\n"
      ],
      "metadata": {
        "id": "2q0l56aFQhAM"
      }
    },
    {
      "cell_type": "markdown",
      "source": [
        "## **Note:**\n",
        "## **Make sure there is no a directory named `sovits4data` in your google drive at the first time you use this notebook.**\n",
        "## **It will be created to store some necessary files.** \n",
        "## **For sure you can change it to another directory by modifying `sovits_data_dir` variable.**"
      ],
      "metadata": {
        "id": "M_RcDbVPhivj"
      }
    },
    {
      "cell_type": "markdown",
      "source": [
        "# **Initialize environment**"
      ],
      "metadata": {
        "id": "fHaw6hGEa_Nk"
      }
    },
    {
      "cell_type": "code",
      "source": [
        "#@title Connect to colab runtime and check GPU\n",
        "\n",
        "#@markdown # Connect to colab runtime and check GPU\n",
        "\n",
        "#@markdown\n",
        "\n",
        "!nvidia-smi"
      ],
      "metadata": {
        "id": "0gQcIZ8RsOkn",
        "cellView": "form"
      },
      "execution_count": null,
      "outputs": []
    },
    {
      "cell_type": "code",
      "source": [
        "#@title Clone repository and install requirements\n",
        "\n",
        "#@markdown # Clone repository and install requirements\n",
        "\n",
        "#@markdown\n",
        "\n",
        "!git clone https://github.com/svc-develop-team/so-vits-svc -b 4.0\n",
        "%cd /content/so-vits-svc\n",
        "!pip install --upgrade pip setuptools numpy numba\n",
        "!pip install pyworld praat-parselmouth fairseq"
      ],
      "metadata": {
        "id": "0YUGpYrXhMck",
        "cellView": "form"
      },
      "execution_count": null,
      "outputs": []
    },
    {
      "cell_type": "code",
      "source": [
        "#@title Sync preprocessed data from Gdrive\n",
        "\n",
        "#@markdown # Sync preprocessed data from Gdrive\n",
        "\n",
        "#@markdown\n",
        "\n",
        "from google.colab import drive\n",
        "drive.mount(\"/content/drive\")\n",
        "\n",
        "#@markdown Directory to store **necessary files**, dont miss the slash at the end👇.\n",
        "sovits_data_dir = \"/content/drive/MyDrive/sovits4data/\"  #@param {type:\"string\"}\n",
        "RAW_DIR = sovits_data_dir + \"raw/\"\n",
        "RESULTS_DIR = sovits_data_dir + \"results/\"\n",
        "FILELISTS_DIR = sovits_data_dir + \"filelists/\"\n",
        "CONFIGS_DIR = sovits_data_dir + \"configs/\"\n",
        "LOGS_DIR = sovits_data_dir + \"logs/44k/\"\n",
        "\n",
        "#@markdown\n",
        "\n",
        "#@markdown　### **Strongly recommend to check all.**\n",
        "\n",
        "#@markdown Sync **input audios** and **output audios**\n",
        "sync_raw_and_results = True  #@param {type:\"boolean\"}\n",
        "if sync_raw_and_results:\n",
        "  !mkdir -p {RAW_DIR}\n",
        "  !mkdir -p {RESULTS_DIR}\n",
        "  !rm -rf /content/so-vits-svc/raw\n",
        "  !rm -rf /content/so-vits-svc/results\n",
        "  !ln -s {RAW_DIR} /content/so-vits-svc/raw\n",
        "  !ln -s {RESULTS_DIR} /content/so-vits-svc/results\n",
        "\n",
        "#@markdown Sync **config** and **models**\n",
        "sync_configs_and_logs = True  #@param {type:\"boolean\"}\n",
        "if sync_configs_and_logs:\n",
        "  !mkdir -p {FILELISTS_DIR}\n",
        "  !mkdir -p {CONFIGS_DIR}\n",
        "  !mkdir -p {LOGS_DIR}\n",
        "  !rm -rf /content/so-vits-svc/filelists\n",
        "  !rm -rf /content/so-vits-svc/configs\n",
        "  !rm -rf /content/so-vits-svc/logs/44k\n",
        "  !ln -s {FILELISTS_DIR} /content/so-vits-svc/filelists\n",
        "  !ln -s {CONFIGS_DIR} /content/so-vits-svc/configs\n",
        "  !ln -s {LOGS_DIR} /content/so-vits-svc/logs/44k\n"
      ],
      "metadata": {
        "id": "wmUkpUmfn_Hs",
        "cellView": "form"
      },
      "execution_count": null,
      "outputs": []
    },
    {
      "cell_type": "code",
      "source": [
        "#@title Get necessary model.\n",
        "\n",
        "#@markdown # Get necessary model.\n",
        "\n",
        "!wget -P hubert/ https://huggingface.co/justinjohn-03/so-vits-svc-4.0/resolve/main/checkpoint_best_legacy_500.pt"
      ],
      "metadata": {
        "id": "pCqf3W0d6ify",
        "cellView": "form"
      },
      "execution_count": null,
      "outputs": []
    },
    {
      "cell_type": "code",
      "source": [
        "#@title Get pretrained model(Optional but strongly recommend).\n",
        "\n",
        "#@markdown **Use the pretrained-model, check the box below to automatically download and enable**\n",
        "pre_pth = True #@param {type:\"boolean\"}\n",
        "if pre_pth:\n",
        "  !wget -P logs/44k/ https://huggingface.co/justinjohn-03/so-vits-svc-4.0/resolve/main/G_0.pth\n",
        "  !wget -P logs/44k/ https://huggingface.co/justinjohn-03/so-vits-svc-4.0/resolve/main/D_0.pth\n",
        "\n",
        "#@markdown Although the pretrained model generally does not cause any copyright problems, please pay attention to it. For example, ask the author in advance, or the author has indicated the feasible use in the description clearly.\n"
      ],
      "metadata": {
        "id": "G_PMPCN6wvgZ",
        "cellView": "form"
      },
      "execution_count": null,
      "outputs": []
    },
    {
      "cell_type": "markdown",
      "source": [
        "# **Dataset preprocessing**"
      ],
      "metadata": {
        "id": "k1qadJBFehMo"
      }
    },
    {
      "cell_type": "markdown",
      "source": [
        "Pack and upload your raw dataset(dataset_raw/) to your google drive.\n",
        "\n",
        "Makesure the file structure in your zip file looks like this:\n",
        "\n",
        "```\n",
        "yourzipfilename.zip\n",
        "├───speaker0\n",
        "│   ├───xxx1-xxx1.wav\n",
        "│   ├───...\n",
        "│   └───Lxx-0xx8.wav\n",
        "└───speaker1\n",
        "    ├───xx2-0xxx2.wav\n",
        "    ├───...\n",
        "    └───xxx7-xxx007.wav\n",
        "```"
      ],
      "metadata": {
        "id": "kBlju6Q3lSM6"
      }
    },
    {
      "cell_type": "code",
      "source": [
        "#@title Get raw dataset from google drive\n",
        "\n",
        "#@markdown # Get raw dataset from google drive\n",
        "\n",
        "#@markdown\n",
        "\n",
        "#@markdown Directory where **your zip file** located in, dont miss the slash at the end👇.\n",
        "sovits_data_dir = \"/content/drive/MyDrive/sovits4data/\"  #@param {type:\"string\"}\n",
        "#@markdown Filename of **your zip file**, do NOT be \"dataset.zip\"\n",
        "zip_filename = \"YourZIPFilenameofRawDataset.zip\"  #@param {type:\"string\"}\n",
        "ZIP_PATH = sovits_data_dir + zip_filename\n",
        "\n",
        "!unzip -od /content/so-vits-svc/dataset_raw {ZIP_PATH}"
      ],
      "metadata": {
        "id": "U05CXlAipvJR",
        "cellView": "form"
      },
      "execution_count": null,
      "outputs": []
    },
    {
      "cell_type": "code",
      "source": [
        "#@title Resample to 44100hz\n",
        "\n",
        "#@markdown # Resample to 44100hz\n",
        "\n",
        "#@markdown\n",
        "\n",
        "!python resample.py"
      ],
      "metadata": {
        "id": "_ThKTzYs5CfL",
        "cellView": "form"
      },
      "execution_count": null,
      "outputs": []
    },
    {
      "cell_type": "code",
      "source": [
        "#@title Divide filelists and generate config.json\n",
        "\n",
        "#@markdown # Divide filelists and generate config.json\n",
        "\n",
        "#@markdown\n",
        "\n",
        "!python preprocess_flist_config.py"
      ],
      "metadata": {
        "id": "svITReeL5N8K",
        "cellView": "form"
      },
      "execution_count": null,
      "outputs": []
    },
    {
      "cell_type": "code",
      "source": [
        "#@title Generate hubert and f0\n",
        "\n",
        "#@markdown # Generate hubert and f0\n",
        "\n",
        "#@markdown\n",
        "\n",
        "!python preprocess_hubert_f0.py"
      ],
      "metadata": {
        "id": "xHUXMi836DMe",
        "cellView": "form"
      },
      "execution_count": null,
      "outputs": []
    },
    {
      "cell_type": "code",
      "source": [
        "#@title Save the preprocessed dataset to google drive\n",
        "\n",
        "#@markdown # Save the preprocessed dataset to google drive\n",
        "\n",
        "#@markdown\n",
        "\n",
        "#@markdown You can save the dataset and related files to your google drive for the next training\n",
        "\n",
        "#@markdown **Directory for saving**, dont miss the slash at the end👇.\n",
        "sovits_data_dir = \"/content/drive/MyDrive/sovits4data/\" #@param {type:\"string\"}\n",
        "\n",
        "#@markdown There will be a `dataset.zip` contained `dataset/` in your google drive, which is preprocessed data.\n",
        "\n",
        "!mkdir -p {sovits_data_dir}\n",
        "!zip -r dataset.zip /content/so-vits-svc/dataset\n",
        "!cp -vr dataset.zip \"{sovits_data_dir}\""
      ],
      "metadata": {
        "id": "Wo4OTmTAUXgj",
        "cellView": "form"
      },
      "execution_count": null,
      "outputs": []
    },
    {
      "cell_type": "code",
      "source": [
        "#@title Unzip preprocessed dataset from google drive directly if you have preprocessed already.\n",
        "\n",
        "#@markdown # Unzip preprocessed dataset from google drive directly if you have preprocessed already.\n",
        "\n",
        "#@markdown\n",
        "\n",
        "#@markdown Directory where **your preprocessed dataset** located in, dont miss the slash at the end👇.\n",
        "sovits_data_dir = \"/content/drive/MyDrive/sovits4data/\" #@param {type:\"string\"}\n",
        "CONFIG = sovits_data_dir + \"configs/\"\n",
        "FILELISTS = sovits_data_dir + \"filelists/\"\n",
        "DATASET = sovits_data_dir + \"dataset.zip\"\n",
        "\n",
        "!cp -vr {CONFIG} /content/so-vits-svc/\n",
        "!cp -vr {FILELISTS} /content/so-vits-svc/\n",
        "!unzip {DATASET} -d /"
      ],
      "metadata": {
        "id": "P2G6v_6zblWK",
        "cellView": "form"
      },
      "execution_count": null,
      "outputs": []
    },
    {
      "cell_type": "markdown",
      "source": [
        "# **Trainning**"
      ],
      "metadata": {
        "id": "ENoH-pShel7w"
      }
    },
    {
      "cell_type": "code",
      "source": [
        "#@title Start training\n",
        "\n",
        "#@markdown # Start training\n",
        "\n",
        "#@markdown If you want to use pre-trained models, upload them to /sovits4data/logs/44k/ in your google drive manualy.\n",
        "\n",
        "#@markdown\n",
        "\n",
        "#@markdown Whether to enable tensorboard\n",
        "tensorboard_on = True  #@param {type:\"boolean\"}\n",
        "\n",
        "if tensorboard_on:\n",
        "  %load_ext tensorboard\n",
        "  %tensorboard --logdir logs/44k\n",
        "\n",
        "!python train.py -c configs/config.json -m 44k"
      ],
      "metadata": {
        "id": "-hEFFTCfZf57",
        "cellView": "form"
      },
      "execution_count": null,
      "outputs": []
    },
    {
      "cell_type": "code",
      "source": [
        "#@title Train cluster model (Optional)\n",
        "\n",
        "#@markdown # Train cluster model (Optional)\n",
        "\n",
        "#@markdown #### Details see [README.md#cluster-based-timbre-leakage-control](https://github.com/svc-develop-team/so-vits-svc#cluster-based-timbre-leakage-control)\n",
        "\n",
        "#@markdown\n",
        "\n",
        "!python cluster/train_cluster.py"
      ],
      "metadata": {
        "id": "ZThaMxmIJgWy",
        "cellView": "form"
      },
      "execution_count": null,
      "outputs": []
    },
    {
      "cell_type": "markdown",
      "source": [
        "# **Inference**\n",
        "### Upload wav files from this notebook\n",
        "### **OR**\n",
        "### Upload to /sovits4data/raw/ in your google drive manualy"
      ],
      "metadata": {
        "id": "oCnbX-OT897k"
      }
    },
    {
      "cell_type": "code",
      "source": [
        "#@title Upload wav files, the filename should not contain any special symbols like `#` `$` `(` `)`\n",
        "\n",
        "#@markdown # Upload wav files, the filename should not contain any special symbols like `#` `$` `(` `)`\n",
        "\n",
        "#@markdown\n",
        "\n",
        "%run wav_upload.py --type audio"
      ],
      "metadata": {
        "id": "XUsmGkgCMD_Q",
        "cellView": "form"
      },
      "execution_count": null,
      "outputs": []
    },
    {
      "cell_type": "code",
      "source": [
        "#@title Start inference (and download)\n",
        "\n",
        "#@markdown # Start inference (and download)\n",
        "\n",
        "#@markdown Parameters see [README.MD#inference](https://github.com/svc-develop-team/so-vits-svc#inference)\n",
        "\n",
        "#@markdown\n",
        "\n",
        "wav_filename = \"YourWAVFile.wav\"  #@param {type:\"string\"}\n",
        "model_filename = \"G_210000.pth\"  #@param {type:\"string\"}\n",
        "model_path = \"/content/so-vits-svc/logs/44k/\" + model_filename\n",
        "speaker = \"YourSpeaker\"  #@param {type:\"string\"}\n",
        "trans = \"0\"  #@param {type:\"string\"}\n",
        "cluster_infer_ratio = \"0\"  #@param {type:\"string\"}\n",
        "\n",
        "#@markdown\n",
        "\n",
        "#@markdown Generally keep default:\n",
        "config_filename = \"config.json\"  #@param {type:\"string\"}\n",
        "config_path = \"/content/so-vits-svc/configs/\" + config_filename\n",
        "slice_db = \"-40\"  #@param {type:\"string\"}\n",
        "wav_format = \"flac\"  #@param {type:\"string\"}\n",
        "wav_output = \"/content/so-vits-svc/results/\" + wav_filename + \"_\" + trans + \"key\" + \"_\" + speaker + \".\" + wav_format\n",
        "\n",
        "!python inference_main.py -n {wav_filename} -m {model_path} -c {config_path} -s {speaker} -t {trans} -cr {cluster_infer_ratio} -sd {slice_db} -wf {wav_format}\n",
        "\n",
        "#@markdown\n",
        "\n",
        "#@markdown If you dont want to download from here, uncheck this.\n",
        "download_after_inference = True  #@param {type:\"boolean\"}\n",
        "\n",
        "if download_after_inference:\n",
        "  from google.colab import files\n",
        "  files.download(wav_output)"
      ],
      "metadata": {
        "id": "dYnKuKTIj3z1",
        "cellView": "form"
      },
      "execution_count": null,
      "outputs": []
    }
  ]
}